{
 "cells": [
  {
   "cell_type": "code",
   "execution_count": 12,
   "metadata": {},
   "outputs": [],
   "source": [
    "import csv"
   ]
  },
  {
   "cell_type": "code",
   "execution_count": 13,
   "metadata": {},
   "outputs": [],
   "source": [
    "import pandas as pd"
   ]
  },
  {
   "cell_type": "code",
   "execution_count": 14,
   "metadata": {},
   "outputs": [],
   "source": [
    "df = pd.read_csv(\"./dataset/train.csv\",escapechar = \"\\\\\",quoting = csv.QUOTE_NONE)"
   ]
  },
  {
   "cell_type": "code",
   "execution_count": 20,
   "metadata": {},
   "outputs": [
    {
     "name": "stdout",
     "output_type": "stream",
     "text": [
      "                                               TITLE  \\\n",
      "0         Pete The Cat Bedtime Blues Doll, 14.5 Inch   \n",
      "1  The New Yorker NYHM014 Refrigerator Magnet, 2 ...   \n",
      "2  The Ultimate Self-Sufficiency Handbook: A Comp...   \n",
      "3   Amway Nutrilite Kids Chewable Iron Tablets (100)   \n",
      "4  Teacher Planner Company A4 6 Lesson Academic T...   \n",
      "5  Men'S Full Sleeve Raglan T-Shirts Denim T-Shir...   \n",
      "6              Glance Women's Wallet (Black) (LW-21)   \n",
      "7  Wild Animals Hungry Brain Educational Flash Ca...   \n",
      "8  Hindi Barakhadi Educational Flash Cards for Ki...   \n",
      "9  Chapin 1380 Premier Pro 3-Gallon Tri-Poxy Stee...   \n",
      "\n",
      "                                         DESCRIPTION  \\\n",
      "0  Pete the Cat is the coolest, most popular cat ...   \n",
      "1  The New Yorker Handsome Cello Wrapped Hard Mag...   \n",
      "2                                                NaN   \n",
      "3                                                NaN   \n",
      "4                                                NaN   \n",
      "5  Men'S Full Sleeve Raglan T-Shirts Denim T-Shir...   \n",
      "6  This Black wallet by Glance will be a treasure...   \n",
      "7  Wild Animals are the animals that mostly stays...   \n",
      "8  Hindi vowel signs and sounds are very importan...   \n",
      "9  Chapin 1380 Premier Pro 3-Gallon Tri-Poxy Stee...   \n",
      "\n",
      "                                       BULLET_POINTS                 BRAND  \\\n",
      "0  [Pete the Cat Bedtime Blues plush doll,Based o...           MerryMakers   \n",
      "1  [Cat In A Tea Cup by New Yorker cover artist G...        The New Yorker   \n",
      "2                                Skyhorse Publishing                imusti   \n",
      "3  [Nutrilite Kids,Chewable Iron Tablets,Quantity...                 Amway   \n",
      "4                                                NaN                   NaN   \n",
      "5  [Color: Blue,Sleeve: Full Sleeve,Material: Cot...     Bhavya Enterprise   \n",
      "6  [The Most Comfortable Women's Wallet That You ...                Glance   \n",
      "7  [Playful learning: Flash cards develops the lo...          hungry brain   \n",
      "8  [Playful learning: Flash cards develops the lo...          hungry brain   \n",
      "9                                                NaN  Chapin International   \n",
      "\n",
      "   BROWSE_NODE_ID  \n",
      "0               0  \n",
      "1               1  \n",
      "2               2  \n",
      "3               3  \n",
      "4               4  \n",
      "5               5  \n",
      "6               6  \n",
      "7               7  \n",
      "8               7  \n",
      "9               9  \n"
     ]
    }
   ],
   "source": [
    "print(df.head(10))"
   ]
  },
  {
   "cell_type": "code",
   "execution_count": null,
   "metadata": {},
   "outputs": [],
   "source": [
    "import re\n",
    "\n",
    "\n",
    "def remove_URL(text):\n",
    "    url = re.compile(r\"https?://\\S+|www\\.\\S+\")\n",
    "    return url.sub(r\"\", text)\n",
    "\n",
    "\n",
    "def remove_html(text):\n",
    "    html = re.compile(r\"<.*?>\")\n",
    "    return html.sub(r\"\", text)\n",
    "import string\n",
    "def remove_emoji(string):\n",
    "    emoji_pattern = re.compile(\n",
    "        \"[\"\n",
    "        u\"\\U0001F600-\\U0001F64F\"  # emoticons\n",
    "        u\"\\U0001F300-\\U0001F5FF\"  # symbols & pictographs\n",
    "        u\"\\U0001F680-\\U0001F6FF\"  # transport & map symbols\n",
    "        u\"\\U0001F1E0-\\U0001F1FF\"  # flags (iOS)\n",
    "        u\"\\U00002702-\\U000027B0\"\n",
    "        u\"\\U000024C2-\\U0001F251\"\n",
    "        \"]+\",\n",
    "        flags=re.UNICODE,\n",
    "    )\n",
    "    return emoji_pattern.sub(r\"\", string)    \n",
    "\n",
    "\n",
    "def remove_punct(text):\n",
    "    table = str.maketrans(\"\", \"\", string.punctuation)\n",
    "    return text.translate(table)\n",
    "def remove_numerics(text):\n",
    "    res = ''.join([i for i in text if not i.isdigit()])\n",
    "    return res"
   ]
  },
  {
   "cell_type": "code",
   "execution_count": null,
   "metadata": {},
   "outputs": [],
   "source": [
    "train[\"TITLE\"] = train[\"TITLE\"].replace(np.nan, '', regex=True)"
   ]
  },
  {
   "cell_type": "code",
   "execution_count": null,
   "metadata": {},
   "outputs": [],
   "source": [
    "train[\"TITLE\"] = train.TITLE.map(lambda x: remove_URL(x))\n",
    "train[\"TITLE\"] = train.TITLE.map(lambda x: remove_html(x))\n",
    "train[\"TITLE\"] = train.TITLE.map(lambda x: remove_emoji(x))\n",
    "train[\"TITLE\"] = train.TITLE.map(lambda x: remove_punct(x))\n",
    "train[\"TITLE\"] = train.TITLE.map(lambda x: remove_numerics(x))\n"
   ]
  },
  {
   "cell_type": "code",
   "execution_count": null,
   "metadata": {},
   "outputs": [],
   "source": [
    "import nltk\n",
    "nltk.download(\"popular\")\n",
    "from nltk.corpus import stopwords\n",
    "\n",
    "stop = set(stopwords.words(\"english\"))\n",
    "\n",
    "\n",
    "def remove_stopwords(text):\n",
    "    text = [word.lower() for word in text.split() if word.lower() not in stop]\n",
    "\n",
    "    return \" \".join(text)"
   ]
  },
  {
   "cell_type": "code",
   "execution_count": null,
   "metadata": {},
   "outputs": [],
   "source": [
    "train[\"TITLE\"] = train[\"TITLE\"].map(remove_stopwords)"
   ]
  },
  {
   "cell_type": "code",
   "execution_count": null,
   "metadata": {},
   "outputs": [],
   "source": []
  },
  {
   "cell_type": "code",
   "execution_count": null,
   "metadata": {},
   "outputs": [],
   "source": []
  }
 ],
 "metadata": {
  "kernelspec": {
   "display_name": "Python 3",
   "language": "python",
   "name": "python3"
  },
  "language_info": {
   "codemirror_mode": {
    "name": "ipython",
    "version": 3
   },
   "file_extension": ".py",
   "mimetype": "text/x-python",
   "name": "python",
   "nbconvert_exporter": "python",
   "pygments_lexer": "ipython3",
   "version": "3.8.5"
  }
 },
 "nbformat": 4,
 "nbformat_minor": 4
}
